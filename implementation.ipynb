{
  "nbformat": 4,
  "nbformat_minor": 0,
  "metadata": {
    "colab": {
      "name": "FlexGNM.ipynb",
      "provenance": [],
      "collapsed_sections": [],
      "toc_visible": true
    },
    "kernelspec": {
      "name": "python3",
      "display_name": "Python 3"
    }
  },
  "cells": [
    {
      "cell_type": "markdown",
      "metadata": {
        "id": "aAB5NGs2k7TA",
        "colab_type": "text"
      },
      "source": [
        "# Проект по непрерывной оптимизации\n",
        "## Программный код\n"
      ]
    },
    {
      "cell_type": "code",
      "metadata": {
        "id": "QDGgOSXMmVi_",
        "colab_type": "code",
        "colab": {}
      },
      "source": [
        "import numpy as np\n",
        "import scipy.linalg as li\n",
        "import matplotlib.pyplot as plt\n",
        "\n",
        "from dataclasses import dataclass\n",
        "\n",
        "# в данной работе используется евклидова норма\n",
        "\n",
        "def norm(v):\n",
        "\treturn np.sqrt(np.sum(np.square(v)))"
      ],
      "execution_count": 0,
      "outputs": []
    },
    {
      "cell_type": "markdown",
      "metadata": {
        "id": "9Fa_LDJAlVis",
        "colab_type": "text"
      },
      "source": [
        "### 1. Алгоритм Голуба-Кахана бидиагонализации матрицы\n",
        "\n",
        "Вход: матрица $A$ размера $m$ на $n$.\n",
        "\n",
        "Выход: матрицы $U$, $B$, $V$, где $U$ и $V$ — ортогональные, $B$ — бидиагональная."
      ]
    },
    {
      "cell_type": "code",
      "metadata": {
        "id": "5v_aF9ylmYqE",
        "colab_type": "code",
        "colab": {}
      },
      "source": [
        "def bidiagonalize(A):\n",
        "\tm, n = A.shape\n",
        "\tV = np.zeros((n, n))\n",
        "\tU = np.zeros((m, m))\n",
        "\tB = np.zeros((m, n))\n",
        " \n",
        "  # construct unit vector\n",
        "\tv = np.zeros(n)\n",
        "\tv[0] = 1.0\n",
        "\tV[:, 0] = v\n",
        "\n",
        "  # u will be defined later\n",
        "\tu = np.zeros(m)\n",
        "\n",
        "\talpha, beta = 0, 0\n",
        "\n",
        "\tfor k in range(m):\n",
        "\t\tu = np.dot(A, v) - beta * u\n",
        "\t\talpha = norm(u)\n",
        "\t\tB[k][k] = alpha\n",
        "\t\tif alpha != 0:\n",
        "\t\t\tu = u / alpha\n",
        "\t\tU[:, k] = u\n",
        "\t\tv = np.dot(A.T, u) - alpha * v\n",
        "\t\tbeta = norm(v)\n",
        "\t\tif beta != 0:\n",
        "\t\t\tv = v / beta\n",
        "\t\tif k + 1 < n:\n",
        "\t\t\tB[k][k + 1] = beta\n",
        "\t\t\tV[:, k + 1] = v\n",
        "\n",
        "\treturn U, B, V"
      ],
      "execution_count": 0,
      "outputs": []
    },
    {
      "cell_type": "markdown",
      "metadata": {
        "id": "zvgMZnLIpx08",
        "colab_type": "text"
      },
      "source": [
        "Проверим на матрице 3х3, что алгоритм бидиагонализации Голуба-Кахана работает, т.е. что полученная матрица B достаточно близка к $U^T \\cdot A \\cdot V$, а $U$ и $V$ имеют единичные определители по модулю."
      ]
    },
    {
      "cell_type": "code",
      "metadata": {
        "id": "w6Y77YKVoO-5",
        "colab_type": "code",
        "outputId": "2eb52e85-e250-452b-e895-24af067aca26",
        "colab": {
          "base_uri": "https://localhost:8080/",
          "height": 185
        }
      },
      "source": [
        "A = np.array([[1, 2, 1], [4, 5, 6], [7, 8, 9]])\n",
        "U, B, V = bidiagonalize(A)\n",
        "print(np.linalg.det(U), np.linalg.det(V)) # ортогональность\n",
        "print(A, B, np.dot(np.dot(U.T, A), V), sep=\"\\n\")"
      ],
      "execution_count": 66,
      "outputs": [
        {
          "output_type": "stream",
          "text": [
            "-1.0 -0.9999999999999998\n",
            "[[1 2 1]\n",
            " [4 5 6]\n",
            " [7 8 9]]\n",
            "[[ 8.1240384  14.47463822  0.        ]\n",
            " [ 0.          0.85634679  0.08782624]\n",
            " [ 0.          0.          0.86244142]]\n",
            "[[ 8.12403840e+00  1.44746382e+01 -1.00284430e-11]\n",
            " [-2.57571742e-14  8.56346791e-01  8.78262407e-02]\n",
            " [-9.44594541e-11 -1.68748475e-10  8.62441424e-01]]\n"
          ],
          "name": "stdout"
        }
      ]
    },
    {
      "cell_type": "markdown",
      "metadata": {
        "id": "Ul4gwUOLmPIz",
        "colab_type": "text"
      },
      "source": [
        "Алгоритм действительно выдал ортогональные матрицы и работает на данном примере.\n",
        "\n",
        "Теперь запустим алгоритм на 1000 случайных матрицах $A \\in Mat_{10 \\times 10}(\\mathbb{R})$, элементы которой равномерно распределены в $(0, 1]$, и проверим, насколько произведение $U^T A V$ отличается от полученной бидиагональной матрицы $B$."
      ]
    },
    {
      "cell_type": "code",
      "metadata": {
        "id": "ZaRKqyvTi6hp",
        "colab_type": "code",
        "outputId": "6deec4dc-0473-4e82-eaaf-624a1d9926bc",
        "colab": {
          "base_uri": "https://localhost:8080/",
          "height": 432
        }
      },
      "source": [
        "res = []\n",
        "for i in range(1000):\n",
        "    A = np.random.rand(7, 10)\n",
        "    U, B, V = bidiagonalize(A)\n",
        "    B_test = np.dot(np.dot(U.T, A), V)\n",
        "    res.append((B_test - B).mean())\n",
        "\n",
        "fig = plt.figure(dpi=80, figsize=(12, 6))\n",
        "plt.xlabel(\"Средняя поэлементная разница\", fontsize=14)\n",
        "plt.grid(True)\n",
        "plt.hist(res, bins=100, color=\"xkcd:deep sea blue\")\n",
        "plt.show()\n",
        "#fig.savefig(\"test_golub_kahan_7x10_mean.pdf\")"
      ],
      "execution_count": 67,
      "outputs": [
        {
          "output_type": "display_data",
          "data": {
            "image/png": "[encoded data removed]",
            "text/plain": [
              "<Figure size 960x480 with 1 Axes>"
            ]
          },
          "metadata": {
            "tags": [],
            "needs_background": "light"
          }
        }
      ]
    },
    {
      "cell_type": "markdown",
      "metadata": {
        "id": "fqe34pHgnsga",
        "colab_type": "text"
      },
      "source": [
        "Полученная средняя поэлементная разница практически во всех случаях нулевая, с уменьшением размерности \"хвост\" распределения этой величины уменьшается."
      ]
    },
    {
      "cell_type": "markdown",
      "metadata": {
        "id": "e6V8XfU1fr9z",
        "colab_type": "text"
      },
      "source": [
        "### 2. Оракулы для получения значений функций в точке и значений градиента"
      ]
    },
    {
      "cell_type": "code",
      "metadata": {
        "id": "pg986KMQ9TaK",
        "colab_type": "code",
        "colab": {}
      },
      "source": [
        "#f(x) = x^2 - x\n",
        "\n",
        "@dataclass\n",
        "class Oracle:\n",
        "  def f_1(self, x):\n",
        "    '''\n",
        "    returns F(x) norm\n",
        "    '''\n",
        "    return np.sqrt(np.sum(np.square(self.F(x))))\n",
        "\n",
        "  def F(self, x):\n",
        "    '''\n",
        "    computes the value of function at point x\n",
        "    '''\n",
        "    x = x[:, 0]\n",
        "    return np.array([[x[0]**2 - x[0]]])\n",
        "\n",
        "  def dF(self, x):\n",
        "    '''\n",
        "    computes the value of the function's derivative at point x\n",
        "    '''\n",
        "    x = x[:, 0]\n",
        "    return np.array([[2 * x[0] - 1]])\n",
        "\n",
        "  def shape(self):\n",
        "    return (1, 1)"
      ],
      "execution_count": 0,
      "outputs": []
    },
    {
      "cell_type": "code",
      "metadata": {
        "id": "EJc0gAA7t02o",
        "colab_type": "code",
        "colab": {}
      },
      "source": [
        "# f(x, y) = (x^2 - 2x + 1) + (y^2 + 5y - 6) + 10\n",
        "\n",
        "@dataclass\n",
        "class Oracle2:\n",
        "  def f_1(self, x):\n",
        "    '''\n",
        "    returns F(x) norm\n",
        "    '''\n",
        "    return np.sqrt(np.sum(np.square(self.F(x))))\n",
        "\n",
        "  def F(self, x):\n",
        "    \n",
        "    '''\n",
        "    computes the value of function at point x\n",
        "    '''\n",
        "    x = x[:,0]\n",
        "    return np.array([[x[0]**2 - 2 * x[0] + 1 + x[1]**2 + 5 * x[1] - 6]])\n",
        "\n",
        "  def dF(self, x):\n",
        "    '''\n",
        "    computes the value of the function's derivative at point x\n",
        "    '''\n",
        "    x = x[:,0]\n",
        "    return np.array([[2 * x[0] - 2, 2 * x[1] + 5]])\n",
        "\n",
        "  def shape(self):\n",
        "    return (1, 2)"
      ],
      "execution_count": 0,
      "outputs": []
    },
    {
      "cell_type": "code",
      "metadata": {
        "id": "2w8U-6bAglfi",
        "colab_type": "code",
        "colab": {}
      },
      "source": [
        "# f(x, y) = x^4 - x + y^4 - 2y^2 + 1\n",
        "\n",
        "@dataclass\n",
        "class Oracle3:\n",
        "  def f_1(self, x):\n",
        "    '''\n",
        "    returns F(x) norm\n",
        "    '''\n",
        "    return np.sqrt(np.sum(np.square(self.F(x))))\n",
        "\n",
        "  def F(self, x):\n",
        "    \n",
        "    '''\n",
        "    computes the value of function at point x\n",
        "    '''\n",
        "    x = x[:,0]\n",
        "    return np.array([[x[0]**4 - x[0] + x[1]**4 - 2 * x[1]**2 + 1]])\n",
        "\n",
        "  def dF(self, x):\n",
        "    '''\n",
        "    computes the value of the function's derivative at point x\n",
        "    '''\n",
        "    x = x[:,0]\n",
        "    return np.array([[4 * x[0]**3 - 1, 4 * x[1]**3 - 4 * x[1]]])\n",
        "\n",
        "  def shape(self):\n",
        "    return (1, 2)"
      ],
      "execution_count": 0,
      "outputs": []
    },
    {
      "cell_type": "code",
      "metadata": {
        "id": "xvxKStIGR41I",
        "colab_type": "code",
        "colab": {}
      },
      "source": [
        "# f(x, y) = ( (x - 2y)^2, y^2 ) \n",
        "\n",
        "@dataclass\n",
        "class Oracle4:\n",
        "  def f_1(self, x):\n",
        "    '''\n",
        "    returns F(x) norm\n",
        "    '''\n",
        "    return np.sqrt(np.sum(np.square(self.F(x))))\n",
        "\n",
        "  def F(self, x):\n",
        "    \n",
        "    '''\n",
        "    computes the value of function at point x\n",
        "    '''\n",
        "    x = x[:,0]\n",
        "    return np.array([[(x[0] - 2 * x[1])**2], [x[1]**2]])\n",
        "\n",
        "  def dF(self, x):\n",
        "    '''\n",
        "    computes the value of the function's derivative at point x\n",
        "    '''\n",
        "    x = x[:,0]\n",
        "    return np.array([[ 2*(x[0] - 2 * x[1]), -4*(x[0] - 2 * x[1]) ], [ 0, 2 * x[1] ]])\n",
        "\n",
        "  def shape(self):\n",
        "    return (2, 2)"
      ],
      "execution_count": 0,
      "outputs": []
    },
    {
      "cell_type": "markdown",
      "metadata": {
        "id": "Vde3v9Apf8mp",
        "colab_type": "text"
      },
      "source": [
        "### 3. Модификация градиентного метода Гаусса-Ньютона "
      ]
    },
    {
      "cell_type": "markdown",
      "metadata": {
        "id": "QXRFwgwyQiIv",
        "colab_type": "text"
      },
      "source": [
        "Вспомогательные функции, в том числе минимизация $\\hat\\psi$:"
      ]
    },
    {
      "cell_type": "code",
      "metadata": {
        "id": "WYPUh7YDcYWH",
        "colab_type": "code",
        "colab": {}
      },
      "source": [
        "def psi(oracle, x, y, i, L):\n",
        "  return phi(oracle, x, y) + 2 ** (i - 1) * L * np.sum(np.square(y - x))\n",
        "\n",
        "\n",
        "def hat_psi(oracle, x, y, i, L):\n",
        "  f1 = oracle.f_1(x)\n",
        "  return L / 2 * np.sum(np.square(y - x)) + 1 / (2 * f1) * (f1 * f1 + np.sum(np.square(oracle.F(x) + oracle.dF(x) * (y - x))) )\n",
        "\n",
        "\n",
        "def get_hat_psi_argmin(oracle, x, i, L):\n",
        "  n, m = oracle.shape()\n",
        "  new_L = 2**i * L\n",
        "  dF = oracle.dF(x)\n",
        "  U, B, V = bidiagonalize(dF)\n",
        "  f_1 = oracle.f_1(x)\n",
        "  dFtdF = dF.T @ dF\n",
        "  b = new_L * f_1 * x + dFtdF @ x - dF.T @ oracle.F(x)\n",
        "  tridiagonal_matrix = B.T @ B\n",
        "  tridiagonal_matrix += new_L * f_1 * np.eye(tridiagonal_matrix.shape[0])\n",
        "  T = (V.T @ li.inv(tridiagonal_matrix) @ V) @ b\n",
        "  return T\n"
      ],
      "execution_count": 0,
      "outputs": []
    },
    {
      "cell_type": "markdown",
      "metadata": {
        "id": "QtP5fjQkQuhU",
        "colab_type": "text"
      },
      "source": [
        "Непосредственно градиентный спуск:"
      ]
    },
    {
      "cell_type": "code",
      "metadata": {
        "id": "AnLSraWPBd7k",
        "colab_type": "code",
        "colab": {}
      },
      "source": [
        "@dataclass\n",
        "class GradientDescent():\n",
        "\n",
        "  def do_gd(self, oracle, start_point, eps, L0, rule, verbose=False):\n",
        "    n, m = oracle.shape()\n",
        "\n",
        "    def T(x, L):\n",
        "      F_cnt = oracle.F(x)\n",
        "      i = 0\n",
        "      result = None\n",
        "      while 1:\n",
        "        # calculate T = argmin(psi(i, L, f))\n",
        "        result = get_hat_psi_argmin(oracle, x, i, L)\n",
        "        # find the smallest i for which the inequality is satisfied\n",
        "        if oracle.f_1(result) < hat_psi(oracle, x, result, i, L):\n",
        "          break\n",
        "        i += 1\n",
        "      return result, L * 2**(i - 1)\n",
        "\n",
        "    x = np.array(start_point).reshape((m, 1))\n",
        "    z = np.zeros((m, 1)) # zero vector\n",
        "\n",
        "    X = [x]\n",
        "    y, L = T(X[0], L0)\n",
        "    Y = [x, y]\n",
        "\n",
        "    k = 0\n",
        "    while True:\n",
        "      k += 1\n",
        "      if verbose:\n",
        "        print(\"\\nSTEP\", k)\n",
        "\n",
        "      y = Y[k]\n",
        "      if verbose:\n",
        "        print(\"current point is\", y[:,0], \" ||F|| =\", oracle.f_1(y))\n",
        "      x, L = T(y, L) # (a)\n",
        "      if norm(y - x) <= eps:\n",
        "        break\n",
        "\n",
        "      if verbose:  \n",
        "        print(\"||y-x|| =\", norm(y - x))\n",
        "\n",
        "\n",
        "      X.append(x)\n",
        "\n",
        "      psi = lambda tau: oracle.f_1(X[k - 1] + tau * (X[k] - X[k - 1])) # (b)\n",
        "      def d_psi(tau): # psi derivative\n",
        "        delta_x = X[k] - X[k - 1]\n",
        "        h = X[k - 1] + tau * delta_x\n",
        "        return (h.T @ delta_x) #/ norm(h)\n",
        "\n",
        "      # (c)\n",
        "      tau = 1\n",
        "      if rule == 'armijo':\n",
        "        alpha = 1/3\n",
        "        beta = 2/3\n",
        "        psi0 = psi(0)\n",
        "        d_psi0 = d_psi(0)\n",
        "\n",
        "        cond61 = lambda tau: psi0 + beta * d_psi0 * tau <= psi(tau) <= psi0 + alpha * d_psi0 * tau\n",
        "        cond621 = lambda tau: psi0 + beta * d_psi0 * tau > psi(tau)\n",
        "        cond622 = lambda tau: psi0 + alpha * d_psi0 * tau < psi(tau)\n",
        "\n",
        "        if verbose:  \n",
        "          print(\"start localization\")\n",
        "\n",
        "        # localization stage\n",
        "        tau1, tau2 = 1, 1\n",
        "        if not cond61(tau):\n",
        "          assert(cond621(tau) or cond622(tau))\n",
        "          if cond621(tau):\n",
        "            tau1 = 1\n",
        "            tau2 = 2 * tau1\n",
        "          else:\n",
        "            tau2 = 1\n",
        "            tau1 = tau2 / 2\n",
        "        \n",
        "          while not (cond621(tau1) and cond622(tau2)):\n",
        "            if verbose:\n",
        "              print(tau1, cond621(tau1), tau2, cond622(tau2))            \n",
        "            if cond621(tau1) and (not cond622(tau2)):\n",
        "              tmp = tau1\n",
        "              tau1 = tau2\n",
        "              tau2 = 2 * tmp\n",
        "            elif cond622(tau2) and (not cond621(tau1)):\n",
        "              tmp = tau2\n",
        "              tau2 = tau1\n",
        "              tau1 = tmp / 2\n",
        "            elif (not cond621(tau1)) and (not cond622(tau2)):\n",
        "              raise RuntimeError\n",
        "        \n",
        "          if verbose:  \n",
        "            print(\"start specification\", tau1, tau2, L0)\n",
        "\n",
        "          # specification stage\n",
        "          assert(cond621(tau1) and cond622(tau2))\n",
        "\n",
        "          tau = (tau1 + tau2) / 2\n",
        "          while not cond61(tau):\n",
        "            if cond621(tau) and (not cond622(tau)):\n",
        "              tau1 = tau\n",
        "            elif (not cond621(tau)) and cond622(tau):\n",
        "              tau2 = tau\n",
        "            else:\n",
        "              raise RuntimeError\n",
        "            tau = (tau1 + tau2) / 2\n",
        "        \n",
        "          if verbose:\n",
        "            print(\"armijo rule done\")\n",
        "\n",
        "      elif rule == 'extrapolation':\n",
        "        taus = [0, 1]\n",
        "\n",
        "        i = 1\n",
        "        while d_psi(taus[i]) < 0 and psi(taus[i]) <= psi(taus[i - 1]):\n",
        "          taus.append(2 * taus[-1])\n",
        "          i += 1\n",
        "        \n",
        "        tau = taus[-1]\n",
        "      \n",
        "      else:\n",
        "        raise RuntimeError\n",
        "\n",
        "      # (d)\n",
        "      Y.append(X[k - 1] + tau * (X[k] - X[k - 1]))\n",
        "\n",
        "    return Y # full history"
      ],
      "execution_count": 0,
      "outputs": []
    },
    {
      "cell_type": "markdown",
      "metadata": {
        "id": "0FqodyvQgRt5",
        "colab_type": "text"
      },
      "source": [
        "### 4. Проверка работы полученного метода"
      ]
    },
    {
      "cell_type": "markdown",
      "metadata": {
        "id": "YzKrbaBFUNno",
        "colab_type": "text"
      },
      "source": [
        "Сначала запустим на простой функции $f: \\mathbb{R}^2 \\to \\mathbb{R^2}$ (см. оракул 4) и построим график зависимости нормы функции от номера итерации."
      ]
    },
    {
      "cell_type": "code",
      "metadata": {
        "id": "oWnI17ObT_d-",
        "colab_type": "code",
        "outputId": "6cc5022a-ab61-453e-8e33-e23bcfdba016",
        "colab": {
          "base_uri": "https://localhost:8080/",
          "height": 413
        }
      },
      "source": [
        "GD = GradientDescent()\n",
        "o4 = Oracle4()\n",
        "rule = \"extrapolation\"\n",
        "points_history = GD.do_gd(o4, np.array([[21], [34]]), 0.0001, 5, rule, verbose=False)\n",
        "function_value_history = [o4.f_1(x) for x in points_history]\n",
        "\n",
        "fig = plt.figure(dpi=80, figsize=(12, 6))\n",
        "plt.plot(function_value_history, color=\"xkcd:amethyst\")\n",
        "plt.grid(True)\n",
        "plt.show()"
      ],
      "execution_count": 74,
      "outputs": [
        {
          "output_type": "display_data",
          "data": {
            "image/png": "[encoded data removed]",
            "text/plain": [
              "<Figure size 960x480 with 1 Axes>"
            ]
          },
          "metadata": {
            "tags": [],
            "needs_background": "light"
          }
        }
      ]
    },
    {
      "cell_type": "markdown",
      "metadata": {
        "id": "AwGGnSL9U26a",
        "colab_type": "text"
      },
      "source": [
        "Визуально, сходимость есть."
      ]
    },
    {
      "cell_type": "markdown",
      "metadata": {
        "id": "GrKvwxs4fDSG",
        "colab_type": "text"
      },
      "source": [
        "Теперь рассмотрим влияние параметра $L_0$ на сходимость метода. Для этого запустим алгоритм на простой функции и построим график зависимости значения в найденном оптимуме $f(x^*)$ от $L_0$."
      ]
    },
    {
      "cell_type": "code",
      "metadata": {
        "id": "XDt3jAIPBkYa",
        "colab_type": "code",
        "outputId": "b29a26db-6744-43d3-c052-d261768079ed",
        "colab": {
          "base_uri": "https://localhost:8080/",
          "height": 431
        }
      },
      "source": [
        "def main():\n",
        "  oracle = Oracle()\n",
        "  GD = GradientDescent()\n",
        "\n",
        "  rule = \"extrapolation\"\n",
        "  results = []\n",
        "  L0s = np.arange(1, 500)\n",
        "  for L0 in L0s:\n",
        "    try:\n",
        "      points_history = np.array(GD.do_gd(oracle, np.array([[5]]), 0.0001, L0, rule, verbose=False))\n",
        "      function_value_history = [oracle.F(x)[0,0] for x in points_history]\n",
        "      ans = function_value_history[-1]\n",
        "      results.append(ans)\n",
        "    except:\n",
        "      results.append(1) # метод не сошелся\n",
        "  fig = plt.figure(dpi=80, figsize=(12, 6))\n",
        "  plt.title(\"Значение функции в зависимости от $L_0$ ({})\".format(rule))\n",
        "  plt.plot(L0s, results, color=\"xkcd:deep magenta\")\n",
        "  plt.grid(True)\n",
        "  plt.show()\n",
        "#  fig.savefig(\"momentum_{}_L0_1.pdf\".format(rule))\n",
        "\n",
        "main()"
      ],
      "execution_count": 75,
      "outputs": [
        {
          "output_type": "display_data",
          "data": {
            "image/png": "[encoded data removed]",
            "text/plain": [
              "<Figure size 960x480 with 1 Axes>"
            ]
          },
          "metadata": {
            "tags": [],
            "needs_background": "light"
          }
        }
      ]
    },
    {
      "cell_type": "markdown",
      "metadata": {
        "id": "DZhC3gAOftGo",
        "colab_type": "text"
      },
      "source": [
        "В данном случае метод с применением экстраполяции для выбора длины шага сходится при любом заданном значении $L_0$."
      ]
    },
    {
      "cell_type": "markdown",
      "metadata": {
        "id": "iObX617BgKXU",
        "colab_type": "text"
      },
      "source": [
        "Теперь сравним поведение метода для экстраполяции и правила Армихо с заранее подобранными стартовыми параметрами."
      ]
    },
    {
      "cell_type": "code",
      "metadata": {
        "id": "ItnqQlAifgYZ",
        "colab_type": "code",
        "outputId": "65da772d-e8a5-4527-bf87-95b271b26ace",
        "colab": {
          "base_uri": "https://localhost:8080/",
          "height": 462
        }
      },
      "source": [
        "def main():\n",
        "  oracle = Oracle()\n",
        "  GD = GradientDescent()\n",
        "\n",
        "  points_history_extra = np.array(GD.do_gd(oracle, np.array([[20000]]), 0.0001, 5.5, \"extrapolation\"))\n",
        "  function_value_history_extra = [oracle.F(x)[0,0] for x in points_history_extra]\n",
        "  points_history_armijo = np.array(GD.do_gd(oracle, np.array([[20000]]), 0.0001, 5.5, \"armijo\"))\n",
        "  function_value_history_armijo = [oracle.F(x)[0,0] for x in points_history_armijo]\n",
        "  print(\"extrapolation iterations:\", len(function_value_history_extra))\n",
        "  print(\"armijo iterations:\", len(function_value_history_armijo))\n",
        "\n",
        "  fig = plt.figure(dpi=80, figsize=(12, 6))\n",
        "  plt.title(\"Значение функции в зависимости от итерации\")\n",
        "  plt.plot(function_value_history_extra, color=\"xkcd:deep magenta\", label=\"extrapolation\")\n",
        "  plt.plot(function_value_history_armijo, color=\"xkcd:petrol\", label=\"armijo\")\n",
        "  plt.legend()\n",
        "  plt.grid(True)\n",
        "  plt.show()\n",
        "#  fig.savefig(\"momentum_1_test.pdf\")\n",
        "\n",
        "main()"
      ],
      "execution_count": 76,
      "outputs": [
        {
          "output_type": "stream",
          "text": [
            "extrapolation iterations: 27\n",
            "armijo iterations: 22\n"
          ],
          "name": "stdout"
        },
        {
          "output_type": "display_data",
          "data": {
            "image/png": "[encoded data removed]",
            "text/plain": [
              "<Figure size 960x480 with 1 Axes>"
            ]
          },
          "metadata": {
            "tags": [],
            "needs_background": "light"
          }
        }
      ]
    },
    {
      "cell_type": "markdown",
      "metadata": {
        "id": "VogadaHNh67e",
        "colab_type": "text"
      },
      "source": [
        "Можно видеть, что при хорошо подобранных начальных параметрах метод с приминением правила Армихо сходится быстрее даже при очень далекой начальной точке $x_0$."
      ]
    }
  ]
}